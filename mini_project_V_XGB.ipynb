{
 "cells": [
  {
   "cell_type": "code",
   "execution_count": 1,
   "metadata": {},
   "outputs": [],
   "source": [
    "from IPython.core.interactiveshell import InteractiveShell\n",
    "InteractiveShell.ast_node_interactivity = \"all\""
   ]
  },
  {
   "cell_type": "code",
   "execution_count": 2,
   "metadata": {},
   "outputs": [],
   "source": [
    "global DATA_GENERATED_PATH\n",
    "\n",
    "DATA_GENERATED_PATH = 'data_generated/'\n",
    "\n",
    "DATA_GENERATED_PATH_PROJECT = DATA_GENERATED_PATH + 'XGB/'"
   ]
  },
  {
   "cell_type": "markdown",
   "metadata": {},
   "source": [
    "## Identifying Duplicate Questions"
   ]
  },
  {
   "cell_type": "markdown",
   "metadata": {},
   "source": [
    "Over 100 million people visit Quora every month, so it's no surprise that many people ask similar (or the same) questions. Various questions with the same intent can cause people to spend extra time searching for the best answer to their question, and results in members answering multiple versions of the same question. Quora uses random forest to identify duplicated questions to provide a better experience to active seekers and writers, and offer more value to both of these groups in the long term.\n",
    "Follow the steps outlined below to build the appropriate classifier model. \n",
    "\n",
    "\n",
    "Steps:\n",
    "- Download data\n",
    "- Exploration\n",
    "- Cleaning\n",
    "- Feature Engineering\n",
    "- Modeling\n",
    "\n",
    "By the end of this project you should have **a presentation that describes the model you built** and its **performance**. \n"
   ]
  },
  {
   "cell_type": "code",
   "execution_count": 3,
   "metadata": {},
   "outputs": [
    {
     "name": "stderr",
     "output_type": "stream",
     "text": [
      "2023-04-12 05:48:47.894647: I tensorflow/core/platform/cpu_feature_guard.cc:182] This TensorFlow binary is optimized to use available CPU instructions in performance-critical operations.\n",
      "To enable the following instructions: SSE4.1 SSE4.2 AVX AVX2 FMA, in other operations, rebuild TensorFlow with the appropriate compiler flags.\n"
     ]
    },
    {
     "name": "stdout",
     "output_type": "stream",
     "text": [
      "Keras version: 2.12.0\n",
      "TensorFlow version: 2.12.0\n"
     ]
    }
   ],
   "source": [
    "import keras\n",
    "import tensorflow as tf\n",
    "\n",
    "print(\"Keras version:\", keras.__version__)\n",
    "print(\"TensorFlow version:\", tf.__version__)\n"
   ]
  },
  {
   "cell_type": "markdown",
   "metadata": {},
   "source": []
  },
  {
   "cell_type": "code",
   "execution_count": 4,
   "metadata": {},
   "outputs": [],
   "source": [
    "\n",
    "# Import necessary libraries\n",
    "import pandas as pd\n",
    "import numpy as np\n",
    "import matplotlib.pyplot as plt\n",
    "import seaborn as sns\n",
    "import nltk\n",
    "from nltk.corpus import stopwords\n",
    "from nltk.stem import PorterStemmer\n",
    "from sklearn.feature_extraction.text import TfidfVectorizer\n",
    "from sklearn.model_selection import train_test_split\n",
    "from sklearn.metrics import accuracy_score, precision_score, recall_score, f1_score\n",
    "from sklearn.linear_model import LogisticRegression\n",
    "import xgboost as xgb\n",
    "from tensorflow.keras.preprocessing.text import Tokenizer\n",
    "from tensorflow.keras.preprocessing.sequence import pad_sequences\n",
    "from tensorflow.keras.models import Sequential\n",
    "from tensorflow.keras.layers import Dense, LSTM, Embedding\n",
    "import nltk\n"
   ]
  },
  {
   "cell_type": "code",
   "execution_count": 5,
   "metadata": {},
   "outputs": [],
   "source": [
    "# Load data\n",
    "df = pd.read_csv(\"data/train.csv\")"
   ]
  },
  {
   "attachments": {},
   "cell_type": "markdown",
   "metadata": {},
   "source": [
    "#### Note\n",
    "There is no designated test.csv file. The train.csv file is the entire dataset. Part of the data in the train.csv file should be set aside to act as the final testing df."
   ]
  },
  {
   "cell_type": "code",
   "execution_count": null,
   "metadata": {},
   "outputs": [],
   "source": []
  },
  {
   "cell_type": "markdown",
   "metadata": {},
   "source": [
    "### Exploration"
   ]
  },
  {
   "cell_type": "code",
   "execution_count": 6,
   "metadata": {},
   "outputs": [
    {
     "data": {
      "text/plain": [
       "(404290, 6)"
      ]
     },
     "execution_count": 6,
     "metadata": {},
     "output_type": "execute_result"
    },
    {
     "data": {
      "text/html": [
       "<div>\n",
       "<style scoped>\n",
       "    .dataframe tbody tr th:only-of-type {\n",
       "        vertical-align: middle;\n",
       "    }\n",
       "\n",
       "    .dataframe tbody tr th {\n",
       "        vertical-align: top;\n",
       "    }\n",
       "\n",
       "    .dataframe thead th {\n",
       "        text-align: right;\n",
       "    }\n",
       "</style>\n",
       "<table border=\"1\" class=\"dataframe\">\n",
       "  <thead>\n",
       "    <tr style=\"text-align: right;\">\n",
       "      <th></th>\n",
       "      <th>id</th>\n",
       "      <th>qid1</th>\n",
       "      <th>qid2</th>\n",
       "      <th>question1</th>\n",
       "      <th>question2</th>\n",
       "      <th>is_duplicate</th>\n",
       "    </tr>\n",
       "  </thead>\n",
       "  <tbody>\n",
       "    <tr>\n",
       "      <th>0</th>\n",
       "      <td>0</td>\n",
       "      <td>1</td>\n",
       "      <td>2</td>\n",
       "      <td>What is the step by step guide to invest in sh...</td>\n",
       "      <td>What is the step by step guide to invest in sh...</td>\n",
       "      <td>0</td>\n",
       "    </tr>\n",
       "    <tr>\n",
       "      <th>1</th>\n",
       "      <td>1</td>\n",
       "      <td>3</td>\n",
       "      <td>4</td>\n",
       "      <td>What is the story of Kohinoor (Koh-i-Noor) Dia...</td>\n",
       "      <td>What would happen if the Indian government sto...</td>\n",
       "      <td>0</td>\n",
       "    </tr>\n",
       "    <tr>\n",
       "      <th>2</th>\n",
       "      <td>2</td>\n",
       "      <td>5</td>\n",
       "      <td>6</td>\n",
       "      <td>How can I increase the speed of my internet co...</td>\n",
       "      <td>How can Internet speed be increased by hacking...</td>\n",
       "      <td>0</td>\n",
       "    </tr>\n",
       "    <tr>\n",
       "      <th>3</th>\n",
       "      <td>3</td>\n",
       "      <td>7</td>\n",
       "      <td>8</td>\n",
       "      <td>Why am I mentally very lonely? How can I solve...</td>\n",
       "      <td>Find the remainder when [math]23^{24}[/math] i...</td>\n",
       "      <td>0</td>\n",
       "    </tr>\n",
       "    <tr>\n",
       "      <th>4</th>\n",
       "      <td>4</td>\n",
       "      <td>9</td>\n",
       "      <td>10</td>\n",
       "      <td>Which one dissolve in water quikly sugar, salt...</td>\n",
       "      <td>Which fish would survive in salt water?</td>\n",
       "      <td>0</td>\n",
       "    </tr>\n",
       "  </tbody>\n",
       "</table>\n",
       "</div>"
      ],
      "text/plain": [
       "   id  qid1  qid2                                          question1   \n",
       "0   0     1     2  What is the step by step guide to invest in sh...  \\\n",
       "1   1     3     4  What is the story of Kohinoor (Koh-i-Noor) Dia...   \n",
       "2   2     5     6  How can I increase the speed of my internet co...   \n",
       "3   3     7     8  Why am I mentally very lonely? How can I solve...   \n",
       "4   4     9    10  Which one dissolve in water quikly sugar, salt...   \n",
       "\n",
       "                                           question2  is_duplicate  \n",
       "0  What is the step by step guide to invest in sh...             0  \n",
       "1  What would happen if the Indian government sto...             0  \n",
       "2  How can Internet speed be increased by hacking...             0  \n",
       "3  Find the remainder when [math]23^{24}[/math] i...             0  \n",
       "4            Which fish would survive in salt water?             0  "
      ]
     },
     "execution_count": 6,
     "metadata": {},
     "output_type": "execute_result"
    },
    {
     "data": {
      "text/html": [
       "<div>\n",
       "<style scoped>\n",
       "    .dataframe tbody tr th:only-of-type {\n",
       "        vertical-align: middle;\n",
       "    }\n",
       "\n",
       "    .dataframe tbody tr th {\n",
       "        vertical-align: top;\n",
       "    }\n",
       "\n",
       "    .dataframe thead th {\n",
       "        text-align: right;\n",
       "    }\n",
       "</style>\n",
       "<table border=\"1\" class=\"dataframe\">\n",
       "  <thead>\n",
       "    <tr style=\"text-align: right;\">\n",
       "      <th></th>\n",
       "      <th>id</th>\n",
       "      <th>qid1</th>\n",
       "      <th>qid2</th>\n",
       "      <th>question1</th>\n",
       "      <th>question2</th>\n",
       "      <th>is_duplicate</th>\n",
       "    </tr>\n",
       "  </thead>\n",
       "  <tbody>\n",
       "    <tr>\n",
       "      <th>404285</th>\n",
       "      <td>404285</td>\n",
       "      <td>433578</td>\n",
       "      <td>379845</td>\n",
       "      <td>How many keywords are there in the Racket prog...</td>\n",
       "      <td>How many keywords are there in PERL Programmin...</td>\n",
       "      <td>0</td>\n",
       "    </tr>\n",
       "    <tr>\n",
       "      <th>404286</th>\n",
       "      <td>404286</td>\n",
       "      <td>18840</td>\n",
       "      <td>155606</td>\n",
       "      <td>Do you believe there is life after death?</td>\n",
       "      <td>Is it true that there is life after death?</td>\n",
       "      <td>1</td>\n",
       "    </tr>\n",
       "    <tr>\n",
       "      <th>404287</th>\n",
       "      <td>404287</td>\n",
       "      <td>537928</td>\n",
       "      <td>537929</td>\n",
       "      <td>What is one coin?</td>\n",
       "      <td>What's this coin?</td>\n",
       "      <td>0</td>\n",
       "    </tr>\n",
       "    <tr>\n",
       "      <th>404288</th>\n",
       "      <td>404288</td>\n",
       "      <td>537930</td>\n",
       "      <td>537931</td>\n",
       "      <td>What is the approx annual cost of living while...</td>\n",
       "      <td>I am having little hairfall problem but I want...</td>\n",
       "      <td>0</td>\n",
       "    </tr>\n",
       "    <tr>\n",
       "      <th>404289</th>\n",
       "      <td>404289</td>\n",
       "      <td>537932</td>\n",
       "      <td>537933</td>\n",
       "      <td>What is like to have sex with cousin?</td>\n",
       "      <td>What is it like to have sex with your cousin?</td>\n",
       "      <td>0</td>\n",
       "    </tr>\n",
       "  </tbody>\n",
       "</table>\n",
       "</div>"
      ],
      "text/plain": [
       "            id    qid1    qid2   \n",
       "404285  404285  433578  379845  \\\n",
       "404286  404286   18840  155606   \n",
       "404287  404287  537928  537929   \n",
       "404288  404288  537930  537931   \n",
       "404289  404289  537932  537933   \n",
       "\n",
       "                                                question1   \n",
       "404285  How many keywords are there in the Racket prog...  \\\n",
       "404286          Do you believe there is life after death?   \n",
       "404287                                  What is one coin?   \n",
       "404288  What is the approx annual cost of living while...   \n",
       "404289              What is like to have sex with cousin?   \n",
       "\n",
       "                                                question2  is_duplicate  \n",
       "404285  How many keywords are there in PERL Programmin...             0  \n",
       "404286         Is it true that there is life after death?             1  \n",
       "404287                                  What's this coin?             0  \n",
       "404288  I am having little hairfall problem but I want...             0  \n",
       "404289      What is it like to have sex with your cousin?             0  "
      ]
     },
     "execution_count": 6,
     "metadata": {},
     "output_type": "execute_result"
    },
    {
     "data": {
      "text/plain": [
       "id              0\n",
       "qid1            0\n",
       "qid2            0\n",
       "question1       1\n",
       "question2       2\n",
       "is_duplicate    0\n",
       "dtype: int64"
      ]
     },
     "execution_count": 6,
     "metadata": {},
     "output_type": "execute_result"
    },
    {
     "data": {
      "text/plain": [
       "id              404290\n",
       "qid1            290654\n",
       "qid2            299364\n",
       "question1       290456\n",
       "question2       299174\n",
       "is_duplicate         2\n",
       "dtype: int64"
      ]
     },
     "execution_count": 6,
     "metadata": {},
     "output_type": "execute_result"
    }
   ],
   "source": [
    "df.shape\n",
    "df.head()\n",
    "df.tail()\n",
    "df.isnull().sum()\n",
    "df.nunique()"
   ]
  },
  {
   "cell_type": "code",
   "execution_count": 7,
   "metadata": {},
   "outputs": [
    {
     "data": {
      "text/plain": [
       "35"
      ]
     },
     "execution_count": 7,
     "metadata": {},
     "output_type": "execute_result"
    },
    {
     "data": {
      "text/plain": [
       "878"
      ]
     },
     "execution_count": 7,
     "metadata": {},
     "output_type": "execute_result"
    },
    {
     "data": {
      "text/plain": [
       "1046"
      ]
     },
     "execution_count": 7,
     "metadata": {},
     "output_type": "execute_result"
    },
    {
     "data": {
      "text/plain": [
       "167"
      ]
     },
     "execution_count": 7,
     "metadata": {},
     "output_type": "execute_result"
    },
    {
     "data": {
      "text/plain": [
       "196"
      ]
     },
     "execution_count": 7,
     "metadata": {},
     "output_type": "execute_result"
    }
   ],
   "source": [
    "# print them in a txt file names EDA.txt\n",
    "with open(DATA_GENERATED_PATH + \"EDA.txt\", \"w\") as f:\n",
    "    f.write(\"\\n\\nShape of the data: \\n\" + str(df.shape) + \"\\n\\n\")\n",
    "    f.write(\"\\n\\nFirst 5 rows of the data: \\n\" + \"\\n\" + str(df.head()) + \"\\n\\n\")\n",
    "    f.write(\"\\n\\nLast 5 rows of the data: \\n\" + \"\\n\" + str(df.tail()) + \"\\n\\n\")\n",
    "    f.write(\"\\n\\nNumber of missing values in each column: \\n\" + \"\\n\" + str(df.isnull().sum()) + \"\\n\\n\")\n",
    "    f.write(\"\\n\\nNumber of unique values in each column: \\n\" + \"\\n\" + str(df.nunique()) + \"\\n\\n\")\n",
    "    # f.write(\"Number of tweets in each class: \" + \"\\n\" + str(df.target.value_counts()) + \"\\n\")\n",
    "    # f.write(\"Percentage of tweets in each class: \" + \"\\n\" + str(df.target.value_counts(normalize=True)) + \"\\n\")\n",
    "    \n",
    "    \n",
    "    \n",
    "    "
   ]
  },
  {
   "cell_type": "code",
   "execution_count": 8,
   "metadata": {},
   "outputs": [
    {
     "name": "stdout",
     "output_type": "stream",
     "text": [
      "Shape of the data:\n",
      "(404290, 6)\n",
      "\n",
      "First 5 rows of the data:\n",
      "   id  qid1  qid2                                          question1   \n",
      "0   0     1     2  What is the step by step guide to invest in sh...  \\\n",
      "1   1     3     4  What is the story of Kohinoor (Koh-i-Noor) Dia...   \n",
      "2   2     5     6  How can I increase the speed of my internet co...   \n",
      "3   3     7     8  Why am I mentally very lonely? How can I solve...   \n",
      "4   4     9    10  Which one dissolve in water quikly sugar, salt...   \n",
      "\n",
      "                                           question2  is_duplicate  \n",
      "0  What is the step by step guide to invest in sh...             0  \n",
      "1  What would happen if the Indian government sto...             0  \n",
      "2  How can Internet speed be increased by hacking...             0  \n",
      "3  Find the remainder when [math]23^{24}[/math] i...             0  \n",
      "4            Which fish would survive in salt water?             0  \n",
      "\n",
      "Last 5 rows of the data:\n",
      "            id    qid1    qid2   \n",
      "404285  404285  433578  379845  \\\n",
      "404286  404286   18840  155606   \n",
      "404287  404287  537928  537929   \n",
      "404288  404288  537930  537931   \n",
      "404289  404289  537932  537933   \n",
      "\n",
      "                                                question1   \n",
      "404285  How many keywords are there in the Racket prog...  \\\n",
      "404286          Do you believe there is life after death?   \n",
      "404287                                  What is one coin?   \n",
      "404288  What is the approx annual cost of living while...   \n",
      "404289              What is like to have sex with cousin?   \n",
      "\n",
      "                                                question2  is_duplicate  \n",
      "404285  How many keywords are there in PERL Programmin...             0  \n",
      "404286         Is it true that there is life after death?             1  \n",
      "404287                                  What's this coin?             0  \n",
      "404288  I am having little hairfall problem but I want...             0  \n",
      "404289      What is it like to have sex with your cousin?             0  \n",
      "\n",
      "Number of missing values in each column:\n",
      "id              0\n",
      "qid1            0\n",
      "qid2            0\n",
      "question1       1\n",
      "question2       2\n",
      "is_duplicate    0\n",
      "dtype: int64\n",
      "\n",
      "Number of unique values in each column:\n",
      "id              404290\n",
      "qid1            290654\n",
      "qid2            299364\n",
      "question1       290456\n",
      "question2       299174\n",
      "is_duplicate         2\n",
      "dtype: int64\n"
     ]
    },
    {
     "data": {
      "text/plain": [
       "<Figure size 600x400 with 0 Axes>"
      ]
     },
     "execution_count": 8,
     "metadata": {},
     "output_type": "execute_result"
    },
    {
     "data": {
      "text/plain": [
       "<Axes: xlabel='is_duplicate', ylabel='count'>"
      ]
     },
     "execution_count": 8,
     "metadata": {},
     "output_type": "execute_result"
    },
    {
     "data": {
      "text/plain": [
       "Text(0.5, 1.0, 'Distribution of Duplicate Questions')"
      ]
     },
     "execution_count": 8,
     "metadata": {},
     "output_type": "execute_result"
    },
    {
     "data": {
      "text/plain": [
       "Text(0.5, 0, 'Is Duplicate')"
      ]
     },
     "execution_count": 8,
     "metadata": {},
     "output_type": "execute_result"
    },
    {
     "data": {
      "text/plain": [
       "Text(0, 0.5, 'Frequency')"
      ]
     },
     "execution_count": 8,
     "metadata": {},
     "output_type": "execute_result"
    },
    {
     "data": {
      "image/png": "[encoded data removed]",
      "text/plain": [
       "<Figure size 600x400 with 1 Axes>"
      ]
     },
     "metadata": {},
     "output_type": "display_data"
    },
    {
     "name": "stdout",
     "output_type": "stream",
     "text": [
      "\n",
      "Percentage of duplicate questions: 36.92%\n"
     ]
    }
   ],
   "source": [
    "# Print the shape of the data\n",
    "print(\"Shape of the data:\")\n",
    "print(df.shape)\n",
    "\n",
    "# Print the first 5 rows of the data\n",
    "print(\"\\nFirst 5 rows of the data:\")\n",
    "print(df.head())\n",
    "\n",
    "# Print the last 5 rows of the data\n",
    "print(\"\\nLast 5 rows of the data:\")\n",
    "print(df.tail())\n",
    "\n",
    "# Print the number of missing values in each column\n",
    "print(\"\\nNumber of missing values in each column:\")\n",
    "print(df.isnull().sum())\n",
    "\n",
    "# Print the number of unique values in each column\n",
    "print(\"\\nNumber of unique values in each column:\")\n",
    "print(df.nunique())\n",
    "\n",
    "# Visualize the distribution of duplicate questions\n",
    "plt.figure(figsize=(6, 4))\n",
    "sns.countplot(x=\"is_duplicate\", data=df)\n",
    "plt.title(\"Distribution of Duplicate Questions\")\n",
    "plt.xlabel(\"Is Duplicate\")\n",
    "plt.ylabel(\"Frequency\")\n",
    "plt.show()\n",
    "\n",
    "# Calculate and print the percentage of duplicate questions\n",
    "duplicate_percentage = df[\"is_duplicate\"].mean() * 100\n",
    "print(f\"\\nPercentage of duplicate questions: {duplicate_percentage:.2f}%\")\n",
    "\n",
    "# Remove rows with missing values\n",
    "df_1= df.dropna()"
   ]
  },
  {
   "cell_type": "code",
   "execution_count": 9,
   "metadata": {},
   "outputs": [
    {
     "data": {
      "text/html": [
       "<div>\n",
       "<style scoped>\n",
       "    .dataframe tbody tr th:only-of-type {\n",
       "        vertical-align: middle;\n",
       "    }\n",
       "\n",
       "    .dataframe tbody tr th {\n",
       "        vertical-align: top;\n",
       "    }\n",
       "\n",
       "    .dataframe thead th {\n",
       "        text-align: right;\n",
       "    }\n",
       "</style>\n",
       "<table border=\"1\" class=\"dataframe\">\n",
       "  <thead>\n",
       "    <tr style=\"text-align: right;\">\n",
       "      <th></th>\n",
       "      <th>id</th>\n",
       "      <th>qid1</th>\n",
       "      <th>qid2</th>\n",
       "      <th>question1</th>\n",
       "      <th>question2</th>\n",
       "      <th>is_duplicate</th>\n",
       "    </tr>\n",
       "  </thead>\n",
       "  <tbody>\n",
       "    <tr>\n",
       "      <th>0</th>\n",
       "      <td>0</td>\n",
       "      <td>1</td>\n",
       "      <td>2</td>\n",
       "      <td>What is the step by step guide to invest in sh...</td>\n",
       "      <td>What is the step by step guide to invest in sh...</td>\n",
       "      <td>0</td>\n",
       "    </tr>\n",
       "    <tr>\n",
       "      <th>1</th>\n",
       "      <td>1</td>\n",
       "      <td>3</td>\n",
       "      <td>4</td>\n",
       "      <td>What is the story of Kohinoor (Koh-i-Noor) Dia...</td>\n",
       "      <td>What would happen if the Indian government sto...</td>\n",
       "      <td>0</td>\n",
       "    </tr>\n",
       "    <tr>\n",
       "      <th>2</th>\n",
       "      <td>2</td>\n",
       "      <td>5</td>\n",
       "      <td>6</td>\n",
       "      <td>How can I increase the speed of my internet co...</td>\n",
       "      <td>How can Internet speed be increased by hacking...</td>\n",
       "      <td>0</td>\n",
       "    </tr>\n",
       "    <tr>\n",
       "      <th>3</th>\n",
       "      <td>3</td>\n",
       "      <td>7</td>\n",
       "      <td>8</td>\n",
       "      <td>Why am I mentally very lonely? How can I solve...</td>\n",
       "      <td>Find the remainder when [math]23^{24}[/math] i...</td>\n",
       "      <td>0</td>\n",
       "    </tr>\n",
       "    <tr>\n",
       "      <th>4</th>\n",
       "      <td>4</td>\n",
       "      <td>9</td>\n",
       "      <td>10</td>\n",
       "      <td>Which one dissolve in water quikly sugar, salt...</td>\n",
       "      <td>Which fish would survive in salt water?</td>\n",
       "      <td>0</td>\n",
       "    </tr>\n",
       "  </tbody>\n",
       "</table>\n",
       "</div>"
      ],
      "text/plain": [
       "   id  qid1  qid2                                          question1   \n",
       "0   0     1     2  What is the step by step guide to invest in sh...  \\\n",
       "1   1     3     4  What is the story of Kohinoor (Koh-i-Noor) Dia...   \n",
       "2   2     5     6  How can I increase the speed of my internet co...   \n",
       "3   3     7     8  Why am I mentally very lonely? How can I solve...   \n",
       "4   4     9    10  Which one dissolve in water quikly sugar, salt...   \n",
       "\n",
       "                                           question2  is_duplicate  \n",
       "0  What is the step by step guide to invest in sh...             0  \n",
       "1  What would happen if the Indian government sto...             0  \n",
       "2  How can Internet speed be increased by hacking...             0  \n",
       "3  Find the remainder when [math]23^{24}[/math] i...             0  \n",
       "4            Which fish would survive in salt water?             0  "
      ]
     },
     "execution_count": 9,
     "metadata": {},
     "output_type": "execute_result"
    }
   ],
   "source": [
    "df_1.head()"
   ]
  },
  {
   "cell_type": "markdown",
   "metadata": {},
   "source": [
    "### Cleaning\n",
    "\n",
    "- Tokenization\n",
    "- Stopwords cleaning\n",
    "- Removing punctuation\n",
    "- Normalizing\n",
    "- Stemming"
   ]
  },
  {
   "cell_type": "code",
   "execution_count": 10,
   "metadata": {},
   "outputs": [],
   "source": [
    "# Text preprocessing functions\n",
    "def tokenize(text):\n",
    "    # Tokenize text\n",
    "    return nltk.word_tokenize(text)\n",
    "\n",
    "def remove_stopwords(text):\n",
    "    # Remove stopwords\n",
    "    stop_words = set(stopwords.words(\"english\"))\n",
    "    return [word for word in text if word not in stop_words]\n",
    "\n",
    "def remove_punctuation(text):\n",
    "    # Remove punctuation\n",
    "    return [word for word in text if word.isalnum()]\n",
    "\n",
    "def normalize(text):\n",
    "    # Convert to lowercase\n",
    "    return [word.lower() for word in text]\n",
    "\n",
    "def stemming(text):\n",
    "    # Stemming\n",
    "    stemmer = PorterStemmer()\n",
    "    return [stemmer.stem(word) for word in text]\n"
   ]
  },
  {
   "cell_type": "code",
   "execution_count": 11,
   "metadata": {},
   "outputs": [],
   "source": [
    "# Cleaning\n",
    "def clean_text(text):\n",
    "    text = tokenize(text)\n",
    "    text = remove_stopwords(text)\n",
    "    text = remove_punctuation(text)\n",
    "    text = normalize(text)\n",
    "    text = stemming(text)\n",
    "    return ' '.join(text)"
   ]
  },
  {
   "cell_type": "code",
   "execution_count": 12,
   "metadata": {},
   "outputs": [
    {
     "name": "stderr",
     "output_type": "stream",
     "text": [
      "[nltk_data] Downloading package stopwords to /Users/ds/nltk_data...\n",
      "[nltk_data]   Package stopwords is already up-to-date!\n"
     ]
    },
    {
     "data": {
      "text/plain": [
       "True"
      ]
     },
     "execution_count": 12,
     "metadata": {},
     "output_type": "execute_result"
    },
    {
     "name": "stderr",
     "output_type": "stream",
     "text": [
      "[nltk_data] Downloading package punkt to /Users/ds/nltk_data...\n",
      "[nltk_data]   Package punkt is already up-to-date!\n"
     ]
    },
    {
     "data": {
      "text/plain": [
       "True"
      ]
     },
     "execution_count": 12,
     "metadata": {},
     "output_type": "execute_result"
    },
    {
     "name": "stderr",
     "output_type": "stream",
     "text": [
      "[nltk_data] Downloading package wordnet to /Users/ds/nltk_data...\n",
      "[nltk_data]   Package wordnet is already up-to-date!\n"
     ]
    },
    {
     "data": {
      "text/plain": [
       "True"
      ]
     },
     "execution_count": 12,
     "metadata": {},
     "output_type": "execute_result"
    }
   ],
   "source": [
    "import nltk\n",
    "\n",
    "nltk.download('stopwords')\n",
    "nltk.download('punkt')\n",
    "nltk.download('wordnet')"
   ]
  },
  {
   "cell_type": "code",
   "execution_count": 13,
   "metadata": {},
   "outputs": [],
   "source": [
    "# df.dropna(subset=['question1', 'question2'], inplace=True)\n",
    "\n",
    "# df['question1_cleaned'] = df['question1'].apply(clean_text)\n",
    "# df['question2_cleaned'] = df['question2'].apply(clean_text)"
   ]
  },
  {
   "cell_type": "code",
   "execution_count": 14,
   "metadata": {},
   "outputs": [],
   "source": [
    "# # save the df \n",
    "# df.to_csv(DATA_GENERATED_PATH + \"cleaned_data.csv\", index=False)\n",
    "\n",
    "# df_cleaned = df.copy()"
   ]
  },
  {
   "cell_type": "code",
   "execution_count": 15,
   "metadata": {},
   "outputs": [],
   "source": [
    "# # save as parquet\n",
    "# df_cleaned.to_parquet(DATA_GENERATED_PATH + \"cleaned_data.parquet\", index=False)"
   ]
  },
  {
   "cell_type": "code",
   "execution_count": 16,
   "metadata": {},
   "outputs": [],
   "source": [
    "# read the parquet\n",
    "df = pd.read_parquet(DATA_GENERATED_PATH + \"cleaned_data.parquet\")"
   ]
  },
  {
   "cell_type": "code",
   "execution_count": 17,
   "metadata": {},
   "outputs": [],
   "source": [
    "# # read the cleaned data\n",
    "# df = pd.read_csv(DATA_GENERATED_PATH + \"cleaned_data.csv\")"
   ]
  },
  {
   "cell_type": "markdown",
   "metadata": {},
   "source": [
    "### Feature Engineering\n",
    "\n",
    "- tf-idf\n",
    "- word2vec\n",
    "- word count\n",
    "- number of the same words in both questions\n",
    "- ...."
   ]
  },
  {
   "cell_type": "code",
   "execution_count": null,
   "metadata": {},
   "outputs": [],
   "source": []
  },
  {
   "cell_type": "code",
   "execution_count": null,
   "metadata": {},
   "outputs": [],
   "source": []
  },
  {
   "cell_type": "markdown",
   "metadata": {},
   "source": [
    "### Modeling\n",
    "\n",
    "Different modeling techniques can be used:\n",
    "\n",
    "- logistic regression\n",
    "- XGBoost\n",
    "- LSTMs\n",
    "- etc"
   ]
  },
  {
   "attachments": {},
   "cell_type": "markdown",
   "metadata": {},
   "source": [
    "#### XGBoost V1: GridSearch"
   ]
  },
  {
   "cell_type": "code",
   "execution_count": 23,
   "metadata": {},
   "outputs": [
    {
     "name": "stdout",
     "output_type": "stream",
     "text": [
      "Fitting 5 folds for each of 27 candidates, totalling 135 fits\n",
      "[CV] END xgb__learning_rate=0.01, xgb__max_depth=3, xgb__n_estimators=50; total time= 2.2min\n",
      "[CV] END xgb__learning_rate=0.01, xgb__max_depth=3, xgb__n_estimators=50; total time= 2.2min\n",
      "[CV] END xgb__learning_rate=0.01, xgb__max_depth=3, xgb__n_estimators=50; total time= 2.2min\n",
      "[CV] END xgb__learning_rate=0.01, xgb__max_depth=3, xgb__n_estimators=50; total time= 2.2min\n",
      "[CV] END xgb__learning_rate=0.01, xgb__max_depth=3, xgb__n_estimators=50; total time= 2.2min\n",
      "[CV] END xgb__learning_rate=0.01, xgb__max_depth=3, xgb__n_estimators=100; total time= 4.0min\n",
      "[CV] END xgb__learning_rate=0.01, xgb__max_depth=3, xgb__n_estimators=100; total time= 4.0min\n",
      "[CV] END xgb__learning_rate=0.01, xgb__max_depth=3, xgb__n_estimators=100; total time= 4.0min\n",
      "[CV] END xgb__learning_rate=0.01, xgb__max_depth=3, xgb__n_estimators=100; total time= 3.8min\n",
      "[CV] END xgb__learning_rate=0.01, xgb__max_depth=3, xgb__n_estimators=100; total time= 3.7min\n",
      "[CV] END xgb__learning_rate=0.01, xgb__max_depth=3, xgb__n_estimators=200; total time= 7.0min\n",
      "[CV] END xgb__learning_rate=0.01, xgb__max_depth=3, xgb__n_estimators=200; total time= 7.1min\n",
      "[CV] END xgb__learning_rate=0.01, xgb__max_depth=3, xgb__n_estimators=200; total time= 7.1min\n",
      "[CV] END xgb__learning_rate=0.01, xgb__max_depth=5, xgb__n_estimators=50; total time= 3.2min\n",
      "[CV] END xgb__learning_rate=0.01, xgb__max_depth=3, xgb__n_estimators=200; total time= 7.2min\n",
      "[CV] END xgb__learning_rate=0.01, xgb__max_depth=5, xgb__n_estimators=50; total time= 3.2min\n",
      "[CV] END xgb__learning_rate=0.01, xgb__max_depth=5, xgb__n_estimators=50; total time= 3.2min\n",
      "[CV] END xgb__learning_rate=0.01, xgb__max_depth=5, xgb__n_estimators=50; total time= 3.2min\n",
      "[CV] END xgb__learning_rate=0.01, xgb__max_depth=3, xgb__n_estimators=200; total time= 7.3min\n",
      "[CV] END xgb__learning_rate=0.01, xgb__max_depth=5, xgb__n_estimators=50; total time= 3.2min\n",
      "[CV] END xgb__learning_rate=0.01, xgb__max_depth=5, xgb__n_estimators=100; total time= 6.0min\n",
      "[CV] END xgb__learning_rate=0.01, xgb__max_depth=5, xgb__n_estimators=100; total time= 5.9min\n",
      "[CV] END xgb__learning_rate=0.01, xgb__max_depth=5, xgb__n_estimators=100; total time= 6.0min\n",
      "[CV] END xgb__learning_rate=0.01, xgb__max_depth=5, xgb__n_estimators=100; total time= 5.8min\n",
      "[CV] END xgb__learning_rate=0.01, xgb__max_depth=5, xgb__n_estimators=100; total time= 5.4min\n",
      "[CV] END xgb__learning_rate=0.01, xgb__max_depth=5, xgb__n_estimators=200; total time=10.2min\n",
      "[CV] END xgb__learning_rate=0.01, xgb__max_depth=5, xgb__n_estimators=200; total time=10.2min\n",
      "[CV] END xgb__learning_rate=0.01, xgb__max_depth=5, xgb__n_estimators=200; total time=10.2min\n",
      "[CV] END xgb__learning_rate=0.01, xgb__max_depth=7, xgb__n_estimators=50; total time= 4.0min\n",
      "[CV] END xgb__learning_rate=0.01, xgb__max_depth=5, xgb__n_estimators=200; total time=10.2min\n",
      "[CV] END xgb__learning_rate=0.01, xgb__max_depth=7, xgb__n_estimators=50; total time= 3.9min\n",
      "[CV] END xgb__learning_rate=0.01, xgb__max_depth=7, xgb__n_estimators=50; total time= 3.8min\n",
      "[CV] END xgb__learning_rate=0.01, xgb__max_depth=7, xgb__n_estimators=50; total time= 3.8min\n",
      "[CV] END xgb__learning_rate=0.01, xgb__max_depth=7, xgb__n_estimators=50; total time= 3.8min\n",
      "[CV] END xgb__learning_rate=0.01, xgb__max_depth=5, xgb__n_estimators=200; total time=10.2min\n",
      "[CV] END xgb__learning_rate=0.01, xgb__max_depth=7, xgb__n_estimators=100; total time= 7.2min\n",
      "[CV] END xgb__learning_rate=0.01, xgb__max_depth=7, xgb__n_estimators=100; total time= 7.2min\n",
      "[CV] END xgb__learning_rate=0.01, xgb__max_depth=7, xgb__n_estimators=100; total time= 7.3min\n",
      "[CV] END xgb__learning_rate=0.01, xgb__max_depth=7, xgb__n_estimators=100; total time= 7.3min\n",
      "[CV] END xgb__learning_rate=0.01, xgb__max_depth=7, xgb__n_estimators=100; total time= 7.3min\n",
      "[CV] END xgb__learning_rate=0.01, xgb__max_depth=7, xgb__n_estimators=200; total time=14.3min\n",
      "[CV] END xgb__learning_rate=0.01, xgb__max_depth=7, xgb__n_estimators=200; total time=14.2min\n",
      "[CV] END xgb__learning_rate=0.01, xgb__max_depth=7, xgb__n_estimators=200; total time=14.2min\n",
      "[CV] END xgb__learning_rate=0.1, xgb__max_depth=3, xgb__n_estimators=50; total time= 1.8min\n",
      "[CV] END xgb__learning_rate=0.1, xgb__max_depth=3, xgb__n_estimators=50; total time= 1.7min\n",
      "[CV] END xgb__learning_rate=0.1, xgb__max_depth=3, xgb__n_estimators=50; total time= 1.8min\n",
      "[CV] END xgb__learning_rate=0.1, xgb__max_depth=3, xgb__n_estimators=50; total time= 1.8min\n",
      "[CV] END xgb__learning_rate=0.1, xgb__max_depth=3, xgb__n_estimators=50; total time= 1.8min\n",
      "[CV] END xgb__learning_rate=0.01, xgb__max_depth=7, xgb__n_estimators=200; total time=14.3min\n",
      "[CV] END xgb__learning_rate=0.1, xgb__max_depth=3, xgb__n_estimators=100; total time= 3.3min\n",
      "[CV] END xgb__learning_rate=0.1, xgb__max_depth=3, xgb__n_estimators=100; total time= 3.3min\n",
      "[CV] END xgb__learning_rate=0.1, xgb__max_depth=3, xgb__n_estimators=100; total time= 3.3min\n",
      "[CV] END xgb__learning_rate=0.1, xgb__max_depth=3, xgb__n_estimators=100; total time= 3.3min\n",
      "[CV] END xgb__learning_rate=0.1, xgb__max_depth=3, xgb__n_estimators=100; total time= 3.3min\n",
      "[CV] END xgb__learning_rate=0.01, xgb__max_depth=7, xgb__n_estimators=200; total time=14.5min\n",
      "[CV] END xgb__learning_rate=0.1, xgb__max_depth=3, xgb__n_estimators=200; total time= 6.3min\n",
      "[CV] END xgb__learning_rate=0.1, xgb__max_depth=3, xgb__n_estimators=200; total time= 6.3min\n",
      "[CV] END xgb__learning_rate=0.1, xgb__max_depth=3, xgb__n_estimators=200; total time= 6.3min\n",
      "[CV] END xgb__learning_rate=0.1, xgb__max_depth=3, xgb__n_estimators=200; total time= 6.2min\n",
      "[CV] END xgb__learning_rate=0.1, xgb__max_depth=5, xgb__n_estimators=50; total time= 2.8min\n",
      "[CV] END xgb__learning_rate=0.1, xgb__max_depth=5, xgb__n_estimators=50; total time= 2.7min\n",
      "[CV] END xgb__learning_rate=0.1, xgb__max_depth=3, xgb__n_estimators=200; total time= 6.3min\n",
      "[CV] END xgb__learning_rate=0.1, xgb__max_depth=5, xgb__n_estimators=50; total time= 2.8min\n",
      "[CV] END xgb__learning_rate=0.1, xgb__max_depth=5, xgb__n_estimators=50; total time= 2.8min\n",
      "[CV] END xgb__learning_rate=0.1, xgb__max_depth=5, xgb__n_estimators=50; total time= 2.8min\n",
      "[CV] END xgb__learning_rate=0.1, xgb__max_depth=5, xgb__n_estimators=100; total time= 5.3min\n",
      "[CV] END xgb__learning_rate=0.1, xgb__max_depth=5, xgb__n_estimators=100; total time= 5.3min\n",
      "[CV] END xgb__learning_rate=0.1, xgb__max_depth=5, xgb__n_estimators=100; total time= 5.3min\n",
      "[CV] END xgb__learning_rate=0.1, xgb__max_depth=5, xgb__n_estimators=100; total time= 5.3min\n",
      "[CV] END xgb__learning_rate=0.1, xgb__max_depth=5, xgb__n_estimators=100; total time= 5.3min\n",
      "[CV] END xgb__learning_rate=0.1, xgb__max_depth=5, xgb__n_estimators=200; total time=10.2min\n",
      "[CV] END xgb__learning_rate=0.1, xgb__max_depth=5, xgb__n_estimators=200; total time=10.2min\n",
      "[CV] END xgb__learning_rate=0.1, xgb__max_depth=5, xgb__n_estimators=200; total time=10.2min\n",
      "[CV] END xgb__learning_rate=0.1, xgb__max_depth=7, xgb__n_estimators=50; total time= 3.7min\n",
      "[CV] END xgb__learning_rate=0.1, xgb__max_depth=7, xgb__n_estimators=50; total time= 3.7min\n",
      "[CV] END xgb__learning_rate=0.1, xgb__max_depth=5, xgb__n_estimators=200; total time=10.1min\n",
      "[CV] END xgb__learning_rate=0.1, xgb__max_depth=7, xgb__n_estimators=50; total time= 3.8min\n",
      "[CV] END xgb__learning_rate=0.1, xgb__max_depth=7, xgb__n_estimators=50; total time= 3.9min\n",
      "[CV] END xgb__learning_rate=0.1, xgb__max_depth=7, xgb__n_estimators=50; total time= 3.9min\n",
      "[CV] END xgb__learning_rate=0.1, xgb__max_depth=5, xgb__n_estimators=200; total time=10.2min\n",
      "[CV] END xgb__learning_rate=0.1, xgb__max_depth=7, xgb__n_estimators=100; total time= 7.3min\n",
      "[CV] END xgb__learning_rate=0.1, xgb__max_depth=7, xgb__n_estimators=100; total time= 7.2min\n",
      "[CV] END xgb__learning_rate=0.1, xgb__max_depth=7, xgb__n_estimators=100; total time= 7.2min\n",
      "[CV] END xgb__learning_rate=0.1, xgb__max_depth=7, xgb__n_estimators=100; total time= 7.2min\n",
      "[CV] END xgb__learning_rate=0.1, xgb__max_depth=7, xgb__n_estimators=100; total time= 7.2min\n",
      "[CV] END xgb__learning_rate=0.1, xgb__max_depth=7, xgb__n_estimators=200; total time=14.0min\n",
      "[CV] END xgb__learning_rate=0.1, xgb__max_depth=7, xgb__n_estimators=200; total time=14.0min\n",
      "[CV] END xgb__learning_rate=0.2, xgb__max_depth=3, xgb__n_estimators=50; total time= 1.8min\n",
      "[CV] END xgb__learning_rate=0.1, xgb__max_depth=7, xgb__n_estimators=200; total time=14.0min\n",
      "[CV] END xgb__learning_rate=0.2, xgb__max_depth=3, xgb__n_estimators=50; total time= 1.7min\n",
      "[CV] END xgb__learning_rate=0.2, xgb__max_depth=3, xgb__n_estimators=50; total time= 1.8min\n",
      "[CV] END xgb__learning_rate=0.2, xgb__max_depth=3, xgb__n_estimators=50; total time= 1.8min\n",
      "[CV] END xgb__learning_rate=0.2, xgb__max_depth=3, xgb__n_estimators=50; total time= 1.8min\n",
      "[CV] END xgb__learning_rate=0.1, xgb__max_depth=7, xgb__n_estimators=200; total time=14.0min\n",
      "[CV] END xgb__learning_rate=0.2, xgb__max_depth=3, xgb__n_estimators=100; total time= 3.2min\n",
      "[CV] END xgb__learning_rate=0.2, xgb__max_depth=3, xgb__n_estimators=100; total time= 3.2min\n",
      "[CV] END xgb__learning_rate=0.2, xgb__max_depth=3, xgb__n_estimators=100; total time= 3.3min\n",
      "[CV] END xgb__learning_rate=0.2, xgb__max_depth=3, xgb__n_estimators=100; total time= 3.3min\n",
      "[CV] END xgb__learning_rate=0.2, xgb__max_depth=3, xgb__n_estimators=100; total time= 3.3min\n",
      "[CV] END xgb__learning_rate=0.1, xgb__max_depth=7, xgb__n_estimators=200; total time=14.0min\n",
      "[CV] END xgb__learning_rate=0.2, xgb__max_depth=3, xgb__n_estimators=200; total time= 6.2min\n",
      "[CV] END xgb__learning_rate=0.2, xgb__max_depth=3, xgb__n_estimators=200; total time= 6.3min\n",
      "[CV] END xgb__learning_rate=0.2, xgb__max_depth=3, xgb__n_estimators=200; total time= 6.3min\n",
      "[CV] END xgb__learning_rate=0.2, xgb__max_depth=3, xgb__n_estimators=200; total time= 6.2min\n",
      "[CV] END xgb__learning_rate=0.2, xgb__max_depth=5, xgb__n_estimators=50; total time= 2.8min\n",
      "[CV] END xgb__learning_rate=0.2, xgb__max_depth=5, xgb__n_estimators=50; total time= 2.8min\n",
      "[CV] END xgb__learning_rate=0.2, xgb__max_depth=3, xgb__n_estimators=200; total time= 6.3min\n",
      "[CV] END xgb__learning_rate=0.2, xgb__max_depth=5, xgb__n_estimators=50; total time= 2.8min\n",
      "[CV] END xgb__learning_rate=0.2, xgb__max_depth=5, xgb__n_estimators=50; total time= 2.7min\n",
      "[CV] END xgb__learning_rate=0.2, xgb__max_depth=5, xgb__n_estimators=50; total time= 2.7min\n",
      "[CV] END xgb__learning_rate=0.2, xgb__max_depth=5, xgb__n_estimators=100; total time= 5.2min\n",
      "[CV] END xgb__learning_rate=0.2, xgb__max_depth=5, xgb__n_estimators=100; total time= 5.2min\n",
      "[CV] END xgb__learning_rate=0.2, xgb__max_depth=5, xgb__n_estimators=100; total time= 5.2min\n",
      "[CV] END xgb__learning_rate=0.2, xgb__max_depth=5, xgb__n_estimators=100; total time= 5.2min\n",
      "[CV] END xgb__learning_rate=0.2, xgb__max_depth=5, xgb__n_estimators=100; total time= 5.2min\n",
      "[CV] END xgb__learning_rate=0.2, xgb__max_depth=5, xgb__n_estimators=200; total time=10.2min\n",
      "[CV] END xgb__learning_rate=0.2, xgb__max_depth=5, xgb__n_estimators=200; total time=10.1min\n",
      "[CV] END xgb__learning_rate=0.2, xgb__max_depth=5, xgb__n_estimators=200; total time=10.1min\n",
      "[CV] END xgb__learning_rate=0.2, xgb__max_depth=7, xgb__n_estimators=50; total time= 3.7min\n",
      "[CV] END xgb__learning_rate=0.2, xgb__max_depth=7, xgb__n_estimators=50; total time= 3.8min\n",
      "[CV] END xgb__learning_rate=0.2, xgb__max_depth=5, xgb__n_estimators=200; total time=10.1min\n",
      "[CV] END xgb__learning_rate=0.2, xgb__max_depth=7, xgb__n_estimators=50; total time= 3.8min\n",
      "[CV] END xgb__learning_rate=0.2, xgb__max_depth=7, xgb__n_estimators=50; total time= 3.8min\n",
      "[CV] END xgb__learning_rate=0.2, xgb__max_depth=7, xgb__n_estimators=50; total time= 3.7min\n",
      "[CV] END xgb__learning_rate=0.2, xgb__max_depth=5, xgb__n_estimators=200; total time=10.1min\n",
      "[CV] END xgb__learning_rate=0.2, xgb__max_depth=7, xgb__n_estimators=100; total time= 7.2min\n",
      "[CV] END xgb__learning_rate=0.2, xgb__max_depth=7, xgb__n_estimators=100; total time= 7.2min\n",
      "[CV] END xgb__learning_rate=0.2, xgb__max_depth=7, xgb__n_estimators=100; total time= 7.2min\n",
      "[CV] END xgb__learning_rate=0.2, xgb__max_depth=7, xgb__n_estimators=100; total time= 7.2min\n",
      "[CV] END xgb__learning_rate=0.2, xgb__max_depth=7, xgb__n_estimators=100; total time= 7.2min\n",
      "[CV] END xgb__learning_rate=0.2, xgb__max_depth=7, xgb__n_estimators=200; total time=14.0min\n",
      "[CV] END xgb__learning_rate=0.2, xgb__max_depth=7, xgb__n_estimators=200; total time=14.0min\n",
      "[CV] END xgb__learning_rate=0.2, xgb__max_depth=7, xgb__n_estimators=200; total time=14.0min\n",
      "[CV] END xgb__learning_rate=0.2, xgb__max_depth=7, xgb__n_estimators=200; total time=13.9min\n",
      "[CV] END xgb__learning_rate=0.2, xgb__max_depth=7, xgb__n_estimators=200; total time=13.5min\n"
     ]
    },
    {
     "data": {
      "text/html": [
       "<style>#sk-container-id-1 {color: black;background-color: white;}#sk-container-id-1 pre{padding: 0;}#sk-container-id-1 div.sk-toggleable {background-color: white;}#sk-container-id-1 label.sk-toggleable__label {cursor: pointer;display: block;width: 100%;margin-bottom: 0;padding: 0.3em;box-sizing: border-box;text-align: center;}#sk-container-id-1 label.sk-toggleable__label-arrow:before {content: \"▸\";float: left;margin-right: 0.25em;color: #696969;}#sk-container-id-1 label.sk-toggleable__label-arrow:hover:before {color: black;}#sk-container-id-1 div.sk-estimator:hover label.sk-toggleable__label-arrow:before {color: black;}#sk-container-id-1 div.sk-toggleable__content {max-height: 0;max-width: 0;overflow: hidden;text-align: left;background-color: #f0f8ff;}#sk-container-id-1 div.sk-toggleable__content pre {margin: 0.2em;color: black;border-radius: 0.25em;background-color: #f0f8ff;}#sk-container-id-1 input.sk-toggleable__control:checked~div.sk-toggleable__content {max-height: 200px;max-width: 100%;overflow: auto;}#sk-container-id-1 input.sk-toggleable__control:checked~label.sk-toggleable__label-arrow:before {content: \"▾\";}#sk-container-id-1 div.sk-estimator input.sk-toggleable__control:checked~label.sk-toggleable__label {background-color: #d4ebff;}#sk-container-id-1 div.sk-label input.sk-toggleable__control:checked~label.sk-toggleable__label {background-color: #d4ebff;}#sk-container-id-1 input.sk-hidden--visually {border: 0;clip: rect(1px 1px 1px 1px);clip: rect(1px, 1px, 1px, 1px);height: 1px;margin: -1px;overflow: hidden;padding: 0;position: absolute;width: 1px;}#sk-container-id-1 div.sk-estimator {font-family: monospace;background-color: #f0f8ff;border: 1px dotted black;border-radius: 0.25em;box-sizing: border-box;margin-bottom: 0.5em;}#sk-container-id-1 div.sk-estimator:hover {background-color: #d4ebff;}#sk-container-id-1 div.sk-parallel-item::after {content: \"\";width: 100%;border-bottom: 1px solid gray;flex-grow: 1;}#sk-container-id-1 div.sk-label:hover label.sk-toggleable__label {background-color: #d4ebff;}#sk-container-id-1 div.sk-serial::before {content: \"\";position: absolute;border-left: 1px solid gray;box-sizing: border-box;top: 0;bottom: 0;left: 50%;z-index: 0;}#sk-container-id-1 div.sk-serial {display: flex;flex-direction: column;align-items: center;background-color: white;padding-right: 0.2em;padding-left: 0.2em;position: relative;}#sk-container-id-1 div.sk-item {position: relative;z-index: 1;}#sk-container-id-1 div.sk-parallel {display: flex;align-items: stretch;justify-content: center;background-color: white;position: relative;}#sk-container-id-1 div.sk-item::before, #sk-container-id-1 div.sk-parallel-item::before {content: \"\";position: absolute;border-left: 1px solid gray;box-sizing: border-box;top: 0;bottom: 0;left: 50%;z-index: -1;}#sk-container-id-1 div.sk-parallel-item {display: flex;flex-direction: column;z-index: 1;position: relative;background-color: white;}#sk-container-id-1 div.sk-parallel-item:first-child::after {align-self: flex-end;width: 50%;}#sk-container-id-1 div.sk-parallel-item:last-child::after {align-self: flex-start;width: 50%;}#sk-container-id-1 div.sk-parallel-item:only-child::after {width: 0;}#sk-container-id-1 div.sk-dashed-wrapped {border: 1px dashed gray;margin: 0 0.4em 0.5em 0.4em;box-sizing: border-box;padding-bottom: 0.4em;background-color: white;}#sk-container-id-1 div.sk-label label {font-family: monospace;font-weight: bold;display: inline-block;line-height: 1.2em;}#sk-container-id-1 div.sk-label-container {text-align: center;}#sk-container-id-1 div.sk-container {/* jupyter's `normalize.less` sets `[hidden] { display: none; }` but bootstrap.min.css set `[hidden] { display: none !important; }` so we also need the `!important` here to be able to override the default hidden behavior on the sphinx rendered scikit-learn.org. See: https://github.com/scikit-learn/scikit-learn/issues/21755 */display: inline-block !important;position: relative;}#sk-container-id-1 div.sk-text-repr-fallback {display: none;}</style><div id=\"sk-container-id-1\" class=\"sk-top-container\"><div class=\"sk-text-repr-fallback\"><pre>GridSearchCV(cv=5,\n",
       "             estimator=Pipeline(steps=[(&#x27;vectorizer&#x27;,\n",
       "                                        TfidfVectorizer(min_df=10)),\n",
       "                                       (&#x27;xgb&#x27;,\n",
       "                                        XGBClassifier(base_score=None,\n",
       "                                                      booster=None,\n",
       "                                                      callbacks=None,\n",
       "                                                      colsample_bylevel=None,\n",
       "                                                      colsample_bynode=None,\n",
       "                                                      colsample_bytree=None,\n",
       "                                                      early_stopping_rounds=None,\n",
       "                                                      enable_categorical=False,\n",
       "                                                      eval_metric=None,\n",
       "                                                      feature_types=None,\n",
       "                                                      gamma=None, gpu_id=None,\n",
       "                                                      grow_policy=None,\n",
       "                                                      impo...\n",
       "                                                      max_cat_to_onehot=None,\n",
       "                                                      max_delta_step=None,\n",
       "                                                      max_depth=None,\n",
       "                                                      max_leaves=None,\n",
       "                                                      min_child_weight=None,\n",
       "                                                      missing=nan,\n",
       "                                                      monotone_constraints=None,\n",
       "                                                      n_estimators=100,\n",
       "                                                      n_jobs=None,\n",
       "                                                      num_parallel_tree=None,\n",
       "                                                      predictor=None,\n",
       "                                                      random_state=42, ...))]),\n",
       "             n_jobs=-1,\n",
       "             param_grid={&#x27;xgb__learning_rate&#x27;: [0.01, 0.1, 0.2],\n",
       "                         &#x27;xgb__max_depth&#x27;: [3, 5, 7],\n",
       "                         &#x27;xgb__n_estimators&#x27;: [50, 100, 200]},\n",
       "             verbose=2)</pre><b>In a Jupyter environment, please rerun this cell to show the HTML representation or trust the notebook. <br />On GitHub, the HTML representation is unable to render, please try loading this page with nbviewer.org.</b></div><div class=\"sk-container\" hidden><div class=\"sk-item sk-dashed-wrapped\"><div class=\"sk-label-container\"><div class=\"sk-label sk-toggleable\"><input class=\"sk-toggleable__control sk-hidden--visually\" id=\"sk-estimator-id-1\" type=\"checkbox\" ><label for=\"sk-estimator-id-1\" class=\"sk-toggleable__label sk-toggleable__label-arrow\">GridSearchCV</label><div class=\"sk-toggleable__content\"><pre>GridSearchCV(cv=5,\n",
       "             estimator=Pipeline(steps=[(&#x27;vectorizer&#x27;,\n",
       "                                        TfidfVectorizer(min_df=10)),\n",
       "                                       (&#x27;xgb&#x27;,\n",
       "                                        XGBClassifier(base_score=None,\n",
       "                                                      booster=None,\n",
       "                                                      callbacks=None,\n",
       "                                                      colsample_bylevel=None,\n",
       "                                                      colsample_bynode=None,\n",
       "                                                      colsample_bytree=None,\n",
       "                                                      early_stopping_rounds=None,\n",
       "                                                      enable_categorical=False,\n",
       "                                                      eval_metric=None,\n",
       "                                                      feature_types=None,\n",
       "                                                      gamma=None, gpu_id=None,\n",
       "                                                      grow_policy=None,\n",
       "                                                      impo...\n",
       "                                                      max_cat_to_onehot=None,\n",
       "                                                      max_delta_step=None,\n",
       "                                                      max_depth=None,\n",
       "                                                      max_leaves=None,\n",
       "                                                      min_child_weight=None,\n",
       "                                                      missing=nan,\n",
       "                                                      monotone_constraints=None,\n",
       "                                                      n_estimators=100,\n",
       "                                                      n_jobs=None,\n",
       "                                                      num_parallel_tree=None,\n",
       "                                                      predictor=None,\n",
       "                                                      random_state=42, ...))]),\n",
       "             n_jobs=-1,\n",
       "             param_grid={&#x27;xgb__learning_rate&#x27;: [0.01, 0.1, 0.2],\n",
       "                         &#x27;xgb__max_depth&#x27;: [3, 5, 7],\n",
       "                         &#x27;xgb__n_estimators&#x27;: [50, 100, 200]},\n",
       "             verbose=2)</pre></div></div></div><div class=\"sk-parallel\"><div class=\"sk-parallel-item\"><div class=\"sk-item\"><div class=\"sk-label-container\"><div class=\"sk-label sk-toggleable\"><input class=\"sk-toggleable__control sk-hidden--visually\" id=\"sk-estimator-id-2\" type=\"checkbox\" ><label for=\"sk-estimator-id-2\" class=\"sk-toggleable__label sk-toggleable__label-arrow\">estimator: Pipeline</label><div class=\"sk-toggleable__content\"><pre>Pipeline(steps=[(&#x27;vectorizer&#x27;, TfidfVectorizer(min_df=10)),\n",
       "                (&#x27;xgb&#x27;,\n",
       "                 XGBClassifier(base_score=None, booster=None, callbacks=None,\n",
       "                               colsample_bylevel=None, colsample_bynode=None,\n",
       "                               colsample_bytree=None,\n",
       "                               early_stopping_rounds=None,\n",
       "                               enable_categorical=False, eval_metric=None,\n",
       "                               feature_types=None, gamma=None, gpu_id=None,\n",
       "                               grow_policy=None, importance_type=None,\n",
       "                               interaction_constraints=None, learning_rate=None,\n",
       "                               max_bin=None, max_cat_threshold=None,\n",
       "                               max_cat_to_onehot=None, max_delta_step=None,\n",
       "                               max_depth=None, max_leaves=None,\n",
       "                               min_child_weight=None, missing=nan,\n",
       "                               monotone_constraints=None, n_estimators=100,\n",
       "                               n_jobs=None, num_parallel_tree=None,\n",
       "                               predictor=None, random_state=42, ...))])</pre></div></div></div><div class=\"sk-serial\"><div class=\"sk-item\"><div class=\"sk-serial\"><div class=\"sk-item\"><div class=\"sk-estimator sk-toggleable\"><input class=\"sk-toggleable__control sk-hidden--visually\" id=\"sk-estimator-id-3\" type=\"checkbox\" ><label for=\"sk-estimator-id-3\" class=\"sk-toggleable__label sk-toggleable__label-arrow\">TfidfVectorizer</label><div class=\"sk-toggleable__content\"><pre>TfidfVectorizer(min_df=10)</pre></div></div></div><div class=\"sk-item\"><div class=\"sk-estimator sk-toggleable\"><input class=\"sk-toggleable__control sk-hidden--visually\" id=\"sk-estimator-id-4\" type=\"checkbox\" ><label for=\"sk-estimator-id-4\" class=\"sk-toggleable__label sk-toggleable__label-arrow\">XGBClassifier</label><div class=\"sk-toggleable__content\"><pre>XGBClassifier(base_score=None, booster=None, callbacks=None,\n",
       "              colsample_bylevel=None, colsample_bynode=None,\n",
       "              colsample_bytree=None, early_stopping_rounds=None,\n",
       "              enable_categorical=False, eval_metric=None, feature_types=None,\n",
       "              gamma=None, gpu_id=None, grow_policy=None, importance_type=None,\n",
       "              interaction_constraints=None, learning_rate=None, max_bin=None,\n",
       "              max_cat_threshold=None, max_cat_to_onehot=None,\n",
       "              max_delta_step=None, max_depth=None, max_leaves=None,\n",
       "              min_child_weight=None, missing=nan, monotone_constraints=None,\n",
       "              n_estimators=100, n_jobs=None, num_parallel_tree=None,\n",
       "              predictor=None, random_state=42, ...)</pre></div></div></div></div></div></div></div></div></div></div></div></div>"
      ],
      "text/plain": [
       "GridSearchCV(cv=5,\n",
       "             estimator=Pipeline(steps=[('vectorizer',\n",
       "                                        TfidfVectorizer(min_df=10)),\n",
       "                                       ('xgb',\n",
       "                                        XGBClassifier(base_score=None,\n",
       "                                                      booster=None,\n",
       "                                                      callbacks=None,\n",
       "                                                      colsample_bylevel=None,\n",
       "                                                      colsample_bynode=None,\n",
       "                                                      colsample_bytree=None,\n",
       "                                                      early_stopping_rounds=None,\n",
       "                                                      enable_categorical=False,\n",
       "                                                      eval_metric=None,\n",
       "                                                      feature_types=None,\n",
       "                                                      gamma=None, gpu_id=None,\n",
       "                                                      grow_policy=None,\n",
       "                                                      impo...\n",
       "                                                      max_cat_to_onehot=None,\n",
       "                                                      max_delta_step=None,\n",
       "                                                      max_depth=None,\n",
       "                                                      max_leaves=None,\n",
       "                                                      min_child_weight=None,\n",
       "                                                      missing=nan,\n",
       "                                                      monotone_constraints=None,\n",
       "                                                      n_estimators=100,\n",
       "                                                      n_jobs=None,\n",
       "                                                      num_parallel_tree=None,\n",
       "                                                      predictor=None,\n",
       "                                                      random_state=42, ...))]),\n",
       "             n_jobs=-1,\n",
       "             param_grid={'xgb__learning_rate': [0.01, 0.1, 0.2],\n",
       "                         'xgb__max_depth': [3, 5, 7],\n",
       "                         'xgb__n_estimators': [50, 100, 200]},\n",
       "             verbose=2)"
      ]
     },
     "execution_count": 23,
     "metadata": {},
     "output_type": "execute_result"
    },
    {
     "name": "stdout",
     "output_type": "stream",
     "text": [
      "Best Parameters: {'xgb__learning_rate': 0.2, 'xgb__max_depth': 7, 'xgb__n_estimators': 200}\n",
      "Accuracy: 0.7714017165895768\n",
      "Confusion Matrix:\n",
      " [[46436  4590]\n",
      " [13894 15938]]\n",
      "Classification Report:\n",
      "               precision    recall  f1-score   support\n",
      "\n",
      "           0       0.77      0.91      0.83     51026\n",
      "           1       0.78      0.53      0.63     29832\n",
      "\n",
      "    accuracy                           0.77     80858\n",
      "   macro avg       0.77      0.72      0.73     80858\n",
      "weighted avg       0.77      0.77      0.76     80858\n",
      "\n"
     ]
    }
   ],
   "source": [
    "import pandas as pd\n",
    "import numpy as np\n",
    "from sklearn.feature_extraction.text import TfidfVectorizer\n",
    "from sklearn.model_selection import train_test_split, GridSearchCV\n",
    "from sklearn.metrics import accuracy_score, confusion_matrix, classification_report\n",
    "from sklearn.pipeline import Pipeline\n",
    "from xgboost import XGBClassifier\n",
    "from joblib import dump, load\n",
    "\n",
    "# Text preprocessing functions\n",
    "# ... (same as before)\n",
    "\n",
    "# Cleaning\n",
    "# ... (same as before)\n",
    "\n",
    "# Load and preprocess the data\n",
    "# ... (same as before)\n",
    "\n",
    "\n",
    "# Combine the questions\n",
    "df['combined_questions'] = df['question1_cleaned'] + ' ' + df['question2_cleaned']\n",
    "y = df['is_duplicate']\n",
    "\n",
    "# Split the data\n",
    "X_train, X_test, y_train, y_test = train_test_split(df['combined_questions'], y, test_size=0.2, random_state=42)\n",
    "\n",
    "# Create the XGBoost model with a preprocessing pipeline\n",
    "xgb_pipeline = Pipeline([\n",
    "    ('vectorizer', TfidfVectorizer(min_df=10)),\n",
    "    ('xgb', XGBClassifier(random_state=42))\n",
    "])\n",
    "\n",
    "# Hyperparameters to tune\n",
    "param_grid = {\n",
    "    'xgb__n_estimators': [50, 100, 200],\n",
    "    'xgb__max_depth': [3, 5, 7],\n",
    "    'xgb__learning_rate': [0.01, 0.1, 0.2]\n",
    "}\n",
    "\n",
    "# Perform Grid Search with Cross-Validation\n",
    "grid_search = GridSearchCV(estimator=xgb_pipeline, param_grid=param_grid, cv=5, n_jobs=-1, verbose=2)\n",
    "grid_search.fit(df['combined_questions'], y)\n",
    "\n",
    "# Get the best parameters\n",
    "best_params = grid_search.best_params_\n",
    "print(\"Best Parameters:\", best_params)\n",
    "\n",
    "# Train the model with the best parameters\n",
    "best_xgb_pipeline = grid_search.best_estimator_\n",
    "\n",
    "# Make predictions\n",
    "y_pred = best_xgb_pipeline.predict(X_test)\n",
    "\n",
    "# Evaluate the model\n",
    "accuracy = accuracy_score(y_test, y_pred)\n",
    "confusion_mat = confusion_matrix(y_test, y_pred)\n",
    "class_report = classification_report(y_test, y_pred)\n",
    "\n",
    "print(\"Accuracy:\", accuracy)\n",
    "print(\"Confusion Matrix:\\n\", confusion_mat)\n",
    "print(\"Classification Report:\\n\", class_report)\n"
   ]
  },
  {
   "attachments": {},
   "cell_type": "markdown",
   "metadata": {},
   "source": [
    "#### XGB V2"
   ]
  },
  {
   "cell_type": "code",
   "execution_count": 18,
   "metadata": {},
   "outputs": [
    {
     "data": {
      "text/html": [
       "<style>#sk-container-id-1 {color: black;background-color: white;}#sk-container-id-1 pre{padding: 0;}#sk-container-id-1 div.sk-toggleable {background-color: white;}#sk-container-id-1 label.sk-toggleable__label {cursor: pointer;display: block;width: 100%;margin-bottom: 0;padding: 0.3em;box-sizing: border-box;text-align: center;}#sk-container-id-1 label.sk-toggleable__label-arrow:before {content: \"▸\";float: left;margin-right: 0.25em;color: #696969;}#sk-container-id-1 label.sk-toggleable__label-arrow:hover:before {color: black;}#sk-container-id-1 div.sk-estimator:hover label.sk-toggleable__label-arrow:before {color: black;}#sk-container-id-1 div.sk-toggleable__content {max-height: 0;max-width: 0;overflow: hidden;text-align: left;background-color: #f0f8ff;}#sk-container-id-1 div.sk-toggleable__content pre {margin: 0.2em;color: black;border-radius: 0.25em;background-color: #f0f8ff;}#sk-container-id-1 input.sk-toggleable__control:checked~div.sk-toggleable__content {max-height: 200px;max-width: 100%;overflow: auto;}#sk-container-id-1 input.sk-toggleable__control:checked~label.sk-toggleable__label-arrow:before {content: \"▾\";}#sk-container-id-1 div.sk-estimator input.sk-toggleable__control:checked~label.sk-toggleable__label {background-color: #d4ebff;}#sk-container-id-1 div.sk-label input.sk-toggleable__control:checked~label.sk-toggleable__label {background-color: #d4ebff;}#sk-container-id-1 input.sk-hidden--visually {border: 0;clip: rect(1px 1px 1px 1px);clip: rect(1px, 1px, 1px, 1px);height: 1px;margin: -1px;overflow: hidden;padding: 0;position: absolute;width: 1px;}#sk-container-id-1 div.sk-estimator {font-family: monospace;background-color: #f0f8ff;border: 1px dotted black;border-radius: 0.25em;box-sizing: border-box;margin-bottom: 0.5em;}#sk-container-id-1 div.sk-estimator:hover {background-color: #d4ebff;}#sk-container-id-1 div.sk-parallel-item::after {content: \"\";width: 100%;border-bottom: 1px solid gray;flex-grow: 1;}#sk-container-id-1 div.sk-label:hover label.sk-toggleable__label {background-color: #d4ebff;}#sk-container-id-1 div.sk-serial::before {content: \"\";position: absolute;border-left: 1px solid gray;box-sizing: border-box;top: 0;bottom: 0;left: 50%;z-index: 0;}#sk-container-id-1 div.sk-serial {display: flex;flex-direction: column;align-items: center;background-color: white;padding-right: 0.2em;padding-left: 0.2em;position: relative;}#sk-container-id-1 div.sk-item {position: relative;z-index: 1;}#sk-container-id-1 div.sk-parallel {display: flex;align-items: stretch;justify-content: center;background-color: white;position: relative;}#sk-container-id-1 div.sk-item::before, #sk-container-id-1 div.sk-parallel-item::before {content: \"\";position: absolute;border-left: 1px solid gray;box-sizing: border-box;top: 0;bottom: 0;left: 50%;z-index: -1;}#sk-container-id-1 div.sk-parallel-item {display: flex;flex-direction: column;z-index: 1;position: relative;background-color: white;}#sk-container-id-1 div.sk-parallel-item:first-child::after {align-self: flex-end;width: 50%;}#sk-container-id-1 div.sk-parallel-item:last-child::after {align-self: flex-start;width: 50%;}#sk-container-id-1 div.sk-parallel-item:only-child::after {width: 0;}#sk-container-id-1 div.sk-dashed-wrapped {border: 1px dashed gray;margin: 0 0.4em 0.5em 0.4em;box-sizing: border-box;padding-bottom: 0.4em;background-color: white;}#sk-container-id-1 div.sk-label label {font-family: monospace;font-weight: bold;display: inline-block;line-height: 1.2em;}#sk-container-id-1 div.sk-label-container {text-align: center;}#sk-container-id-1 div.sk-container {/* jupyter's `normalize.less` sets `[hidden] { display: none; }` but bootstrap.min.css set `[hidden] { display: none !important; }` so we also need the `!important` here to be able to override the default hidden behavior on the sphinx rendered scikit-learn.org. See: https://github.com/scikit-learn/scikit-learn/issues/21755 */display: inline-block !important;position: relative;}#sk-container-id-1 div.sk-text-repr-fallback {display: none;}</style><div id=\"sk-container-id-1\" class=\"sk-top-container\"><div class=\"sk-text-repr-fallback\"><pre>XGBClassifier(base_score=None, booster=None, callbacks=None,\n",
       "              colsample_bylevel=None, colsample_bynode=None,\n",
       "              colsample_bytree=None, early_stopping_rounds=None,\n",
       "              enable_categorical=False, eval_metric=None, feature_types=None,\n",
       "              gamma=None, gpu_id=None, grow_policy=None, importance_type=None,\n",
       "              interaction_constraints=None, learning_rate=0.2, max_bin=None,\n",
       "              max_cat_threshold=None, max_cat_to_onehot=None,\n",
       "              max_delta_step=None, max_depth=20, max_leaves=None,\n",
       "              min_child_weight=None, missing=nan, monotone_constraints=None,\n",
       "              n_estimators=300, n_jobs=None, num_parallel_tree=None,\n",
       "              predictor=None, random_state=42, ...)</pre><b>In a Jupyter environment, please rerun this cell to show the HTML representation or trust the notebook. <br />On GitHub, the HTML representation is unable to render, please try loading this page with nbviewer.org.</b></div><div class=\"sk-container\" hidden><div class=\"sk-item\"><div class=\"sk-estimator sk-toggleable\"><input class=\"sk-toggleable__control sk-hidden--visually\" id=\"sk-estimator-id-1\" type=\"checkbox\" checked><label for=\"sk-estimator-id-1\" class=\"sk-toggleable__label sk-toggleable__label-arrow\">XGBClassifier</label><div class=\"sk-toggleable__content\"><pre>XGBClassifier(base_score=None, booster=None, callbacks=None,\n",
       "              colsample_bylevel=None, colsample_bynode=None,\n",
       "              colsample_bytree=None, early_stopping_rounds=None,\n",
       "              enable_categorical=False, eval_metric=None, feature_types=None,\n",
       "              gamma=None, gpu_id=None, grow_policy=None, importance_type=None,\n",
       "              interaction_constraints=None, learning_rate=0.2, max_bin=None,\n",
       "              max_cat_threshold=None, max_cat_to_onehot=None,\n",
       "              max_delta_step=None, max_depth=20, max_leaves=None,\n",
       "              min_child_weight=None, missing=nan, monotone_constraints=None,\n",
       "              n_estimators=300, n_jobs=None, num_parallel_tree=None,\n",
       "              predictor=None, random_state=42, ...)</pre></div></div></div></div></div>"
      ],
      "text/plain": [
       "XGBClassifier(base_score=None, booster=None, callbacks=None,\n",
       "              colsample_bylevel=None, colsample_bynode=None,\n",
       "              colsample_bytree=None, early_stopping_rounds=None,\n",
       "              enable_categorical=False, eval_metric=None, feature_types=None,\n",
       "              gamma=None, gpu_id=None, grow_policy=None, importance_type=None,\n",
       "              interaction_constraints=None, learning_rate=0.2, max_bin=None,\n",
       "              max_cat_threshold=None, max_cat_to_onehot=None,\n",
       "              max_delta_step=None, max_depth=20, max_leaves=None,\n",
       "              min_child_weight=None, missing=nan, monotone_constraints=None,\n",
       "              n_estimators=300, n_jobs=None, num_parallel_tree=None,\n",
       "              predictor=None, random_state=42, ...)"
      ]
     },
     "execution_count": 18,
     "metadata": {},
     "output_type": "execute_result"
    },
    {
     "name": "stdout",
     "output_type": "stream",
     "text": [
      "Accuracy: 0.8020851369066759\n",
      "Confusion Matrix:\n",
      " [[45611  5415]\n",
      " [10588 19244]]\n",
      "Classification Report:\n",
      "               precision    recall  f1-score   support\n",
      "\n",
      "           0       0.81      0.89      0.85     51026\n",
      "           1       0.78      0.65      0.71     29832\n",
      "\n",
      "    accuracy                           0.80     80858\n",
      "   macro avg       0.80      0.77      0.78     80858\n",
      "weighted avg       0.80      0.80      0.80     80858\n",
      "\n"
     ]
    },
    {
     "data": {
      "text/plain": [
       "29"
      ]
     },
     "execution_count": 18,
     "metadata": {},
     "output_type": "execute_result"
    },
    {
     "data": {
      "text/plain": [
       "49"
      ]
     },
     "execution_count": 18,
     "metadata": {},
     "output_type": "execute_result"
    },
    {
     "data": {
      "text/plain": [
       "349"
      ]
     },
     "execution_count": 18,
     "metadata": {},
     "output_type": "execute_result"
    }
   ],
   "source": [
    "import pandas as pd\n",
    "import numpy as np\n",
    "import pickle\n",
    "from sklearn.feature_extraction.text import TfidfVectorizer\n",
    "from sklearn.model_selection import train_test_split\n",
    "from sklearn.metrics import accuracy_score, confusion_matrix, classification_report\n",
    "from xgboost import XGBClassifier\n",
    "\n",
    "# Load and preprocess the data\n",
    "# ... (same as before)\n",
    "\n",
    "# Combine the questions\n",
    "df['combined_questions'] = df['question1_cleaned'] + ' ' + df['question2_cleaned']\n",
    "\n",
    "# Feature extraction\n",
    "vectorizer = TfidfVectorizer(min_df=10)\n",
    "X = vectorizer.fit_transform(df['combined_questions'])\n",
    "y = df['is_duplicate']\n",
    "\n",
    "# Split the data\n",
    "X_train, X_test, y_train, y_test = train_test_split(X, y, test_size=0.2, random_state=42)\n",
    "\n",
    "# Create the XGBoost classifier\n",
    "xgb = XGBClassifier(tree_method='hist', random_state=42, learning_rate=0.2, max_depth=20, n_estimators=300)\n",
    "\n",
    "# Train the model\n",
    "xgb.fit(X_train, y_train)\n",
    "\n",
    "# Make predictions\n",
    "y_pred = xgb.predict(X_test)\n",
    "\n",
    "# Evaluate the model\n",
    "accuracy = accuracy_score(y_test, y_pred)\n",
    "confusion_mat = confusion_matrix(y_test, y_pred)\n",
    "class_report = classification_report(y_test, y_pred)\n",
    "\n",
    "print(\"Accuracy:\", accuracy)\n",
    "print(\"Confusion Matrix:\\n\", confusion_mat)\n",
    "print(\"Classification Report:\\n\", class_report)\n",
    "\n",
    "# Save the model\n",
    "with open(DATA_GENERATED_PATH_PROJECT + \"xgboost_model.pkl\", \"wb\") as f:\n",
    "    pickle.dump(xgb, f)\n",
    "\n",
    "# Save the evaluation metrics\n",
    "with open(DATA_GENERATED_PATH_PROJECT + \"xgboost_evaluation.txt\", \"w\") as f:\n",
    "    f.write(\"Accuracy: {}\\n\".format(accuracy))\n",
    "    f.write(\"Confusion Matrix:\\n{}\\n\".format(confusion_mat))\n",
    "    f.write(\"Classification Report:\\n{}\".format(class_report))\n"
   ]
  }
 ],
 "metadata": {
  "kernelspec": {
   "display_name": "Python 3 (ipykernel)",
   "language": "python",
   "name": "python3"
  },
  "language_info": {
   "codemirror_mode": {
    "name": "ipython",
    "version": 3
   },
   "file_extension": ".py",
   "mimetype": "text/x-python",
   "name": "python",
   "nbconvert_exporter": "python",
   "pygments_lexer": "ipython3",
   "version": "3.10.10"
  }
 },
 "nbformat": 4,
 "nbformat_minor": 4
}
